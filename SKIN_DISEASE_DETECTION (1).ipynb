{
  "cells": [
    {
      "attachments": {},
      "cell_type": "markdown",
      "metadata": {
        "id": "ai1DZHWSuhes"
      },
      "source": [
        "*** SKIN DISEASE USING CNN ***\n",
        "\n",
        "Number of Classes - 23 \n",
        "\n",
        "DATASET\n",
        "\n",
        "1.   Training Dataset - 15557 Files in JPG Format\n",
        "2.   Testing Dataset - 4002 Files in JPG Format\n",
        "\n"
      ]
    },
    {
      "cell_type": "code",
      "execution_count": 6,
      "metadata": {
        "id": "BB7XzDejSfO9"
      },
      "outputs": [],
      "source": [
        "#Import necessary libraries and modules\n",
        "import tensorflow as tf\n",
        "from tensorflow.keras import layers\n",
        "from tensorflow.keras.preprocessing.image import ImageDataGenerator\n",
        "from keras.applications import VGG16\n",
        "from keras.preprocessing.image import ImageDataGenerator\n",
        "from sklearn.svm import SVC\n",
        "from sklearn.metrics import accuracy_score"
      ]
    },
    {
      "cell_type": "code",
      "execution_count": 7,
      "metadata": {
        "id": "PX5O_oD9SxKW"
      },
      "outputs": [],
      "source": [
        "#Define the input image dimensions and the number of classes in your dataset\n",
        "img_height = 224\n",
        "img_width = 224\n",
        "num_classes = 23"
      ]
    },
    {
      "cell_type": "code",
      "execution_count": 8,
      "metadata": {
        "id": "9l9X--26S-9S"
      },
      "outputs": [],
      "source": [
        "#Create a data generator object to preprocess and augment your dataset\n",
        "data_generator = ImageDataGenerator(\n",
        "        rescale=1./255,\n",
        "        shear_range=0.2,\n",
        "        zoom_range=0.2,\n",
        "        horizontal_flip=True,\n",
        "        validation_split=0.2)"
      ]
    },
    {
      "cell_type": "code",
      "execution_count": 9,
      "metadata": {
        "colab": {
          "base_uri": "https://localhost:8080/"
        },
        "id": "9YwZWO2YUMbk",
        "outputId": "28216f72-c6e4-4a1b-ebde-537dd472a988"
      },
      "outputs": [
        {
          "name": "stdout",
          "output_type": "stream",
          "text": [
            "Mounted at /content/drive\n"
          ]
        }
      ],
      "source": [
        "#Drive Access\n",
        "from google.colab import drive\n",
        "drive.mount('/content/drive')"
      ]
    },
    {
      "cell_type": "code",
      "execution_count": null,
      "metadata": {
        "colab": {
          "base_uri": "https://localhost:8080/"
        },
        "id": "eXWxCSLnT58k",
        "outputId": "81320e0c-1cf7-4969-aacc-a95d33346dc4"
      },
      "outputs": [
        {
          "name": "stdout",
          "output_type": "stream",
          "text": [
            "Found 12463 images belonging to 23 classes.\n",
            "Found 3106 images belonging to 23 classes.\n"
          ]
        }
      ],
      "source": [
        "#Use the data generator object to load and split your dataset into training and validation sets\n",
        "train_generator = data_generator.flow_from_directory(\n",
        "        '/content/drive/MyDrive/FINAL YEAR PROJECT/train',\n",
        "        target_size=(img_height, img_width),\n",
        "        batch_size=32,\n",
        "        class_mode='categorical',\n",
        "        subset='training') # set as training data\n",
        "\n",
        "validation_generator = data_generator.flow_from_directory(\n",
        "        '/content/drive/MyDrive/FINAL YEAR PROJECT/train',\n",
        "        target_size=(img_height, img_width),\n",
        "        batch_size=32,\n",
        "        class_mode='categorical',\n",
        "        subset='validation')"
      ]
    },
    {
      "cell_type": "code",
      "execution_count": 10,
      "metadata": {
        "id": "cuGpIl4cVfKZ"
      },
      "outputs": [],
      "source": [
        "#Define a CNN model architecture using the tf.keras.Sequential API\n",
        "model = tf.keras.Sequential([\n",
        "    layers.Conv2D(32, (3, 3), activation='relu', input_shape=(img_height, img_width, 3)),\n",
        "    layers.MaxPooling2D(pool_size=(2, 2)),\n",
        "    layers.Conv2D(64, (3, 3), activation='relu'),\n",
        "    layers.MaxPooling2D(pool_size=(2, 2)),\n",
        "    layers.Flatten(),\n",
        "    layers.Dense(128, activation='relu'),\n",
        "    layers.Dense(num_classes, activation='softmax')\n",
        "])"
      ]
    },
    {
      "cell_type": "code",
      "execution_count": 11,
      "metadata": {
        "id": "zf0lBnBvV7Et"
      },
      "outputs": [],
      "source": [
        "#Compile the model with appropriate loss and optimizer functions\n",
        "model.compile(\n",
        "    loss='categorical_crossentropy',\n",
        "    optimizer='adam',\n",
        "    metrics=['accuracy'])"
      ]
    },
    {
      "cell_type": "code",
      "execution_count": null,
      "metadata": {
        "colab": {
          "base_uri": "https://localhost:8080/"
        },
        "id": "NMfMEZz6WHPi",
        "outputId": "a4638ab7-1512-41ec-90a2-295479a03259"
      },
      "outputs": [
        {
          "name": "stderr",
          "output_type": "stream",
          "text": [
            "<ipython-input-8-428efbb955d4>:2: UserWarning: `Model.fit_generator` is deprecated and will be removed in a future version. Please use `Model.fit`, which supports generators.\n",
            "  history = model.fit_generator(\n"
          ]
        },
        {
          "name": "stdout",
          "output_type": "stream",
          "text": [
            "Epoch 1/10\n",
            "389/389 [==============================] - 2787s 7s/step - loss: 3.0546 - accuracy: 0.1417 - val_loss: 2.9388 - val_accuracy: 0.1186\n",
            "Epoch 2/10\n",
            "389/389 [==============================] - 1499s 4s/step - loss: 2.7614 - accuracy: 0.1789 - val_loss: 2.8676 - val_accuracy: 0.1698\n",
            "Epoch 3/10\n",
            "389/389 [==============================] - 1487s 4s/step - loss: 2.6651 - accuracy: 0.2096 - val_loss: 2.8699 - val_accuracy: 0.1827\n",
            "Epoch 4/10\n",
            "389/389 [==============================] - 1483s 4s/step - loss: 2.5933 - accuracy: 0.2292 - val_loss: 2.8229 - val_accuracy: 0.1814\n",
            "Epoch 5/10\n",
            "389/389 [==============================] - 1494s 4s/step - loss: 2.5294 - accuracy: 0.2492 - val_loss: 2.8333 - val_accuracy: 0.1885\n",
            "Epoch 6/10\n",
            "389/389 [==============================] - 1489s 4s/step - loss: 2.4814 - accuracy: 0.2593 - val_loss: 2.8358 - val_accuracy: 0.1840\n",
            "Epoch 7/10\n",
            "389/389 [==============================] - 1520s 4s/step - loss: 2.4225 - accuracy: 0.2723 - val_loss: 2.8567 - val_accuracy: 0.1843\n",
            "Epoch 8/10\n",
            "389/389 [==============================] - 1489s 4s/step - loss: 2.3589 - accuracy: 0.2980 - val_loss: 2.8444 - val_accuracy: 0.1756\n",
            "Epoch 9/10\n",
            "389/389 [==============================] - 1489s 4s/step - loss: 2.3183 - accuracy: 0.3141 - val_loss: 2.9013 - val_accuracy: 0.1898\n",
            "Epoch 10/10\n",
            "389/389 [==============================] - 1502s 4s/step - loss: 2.2681 - accuracy: 0.3257 - val_loss: 2.9869 - val_accuracy: 0.1985\n"
          ]
        }
      ],
      "source": [
        "#Train the model on your dataset using the fit_generator method\n",
        "history = model.fit_generator(\n",
        "        train_generator,\n",
        "        steps_per_epoch=train_generator.samples//train_generator.batch_size,\n",
        "        epochs=10,\n",
        "        validation_data=validation_generator,\n",
        "        validation_steps=validation_generator.samples//validation_generator.batch_size)"
      ]
    },
    {
      "cell_type": "code",
      "execution_count": 12,
      "metadata": {
        "colab": {
          "base_uri": "https://localhost:8080/"
        },
        "id": "opXNyETfjqP7",
        "outputId": "63075c39-90f8-487d-d4ce-113e26570f61"
      },
      "outputs": [
        {
          "name": "stdout",
          "output_type": "stream",
          "text": [
            "Found 4002 images belonging to 23 classes.\n",
            "126/126 [==============================] - 824s 7s/step - loss: 3.1559 - accuracy: 0.0315\n",
            "Test loss: 3.155900478363037\n",
            "Test accuracy: 0.03148425742983818\n"
          ]
        }
      ],
      "source": [
        "# Evaluate the model on the test set\n",
        "test_generator = data_generator.flow_from_directory(\n",
        "        '/content/drive/MyDrive/FINAL YEAR PROJECT/test',\n",
        "        target_size=(img_height, img_width),\n",
        "        batch_size=32,\n",
        "        class_mode='categorical')\n",
        "\n",
        "scores = model.evaluate(test_generator)\n",
        "print('Test loss:', scores[0])\n",
        "print('Test accuracy:', scores[1])"
      ]
    },
    {
      "cell_type": "code",
      "execution_count": 13,
      "metadata": {
        "colab": {
          "base_uri": "https://localhost:8080/"
        },
        "id": "8qyF58IeGQEl",
        "outputId": "8e39a364-bcc4-4942-e0b6-810ae3370e92"
      },
      "outputs": [
        {
          "name": "stdout",
          "output_type": "stream",
          "text": [
            "Downloading data from https://storage.googleapis.com/tensorflow/keras-applications/vgg16/vgg16_weights_tf_dim_ordering_tf_kernels_notop.h5\n",
            "58889256/58889256 [==============================] - 0s 0us/step\n",
            "Found 15569 images belonging to 23 classes.\n",
            "487/487 [==============================] - 8915s 18s/step\n",
            "Found 4002 images belonging to 23 classes.\n",
            "126/126 [==============================] - 2267s 18s/step\n",
            "Accuracy: 0.392303848075962\n"
          ]
        }
      ],
      "source": [
        "# Load pre-trained CNN model\n",
        "model = VGG16(weights='imagenet', include_top=False)\n",
        "\n",
        "# Extract features from images\n",
        "datagen = ImageDataGenerator(rescale=1./255)\n",
        "train_generator = datagen.flow_from_directory(\n",
        "        '/content/drive/MyDrive/FINAL YEAR PROJECT/train',\n",
        "        target_size=(224, 224),\n",
        "        batch_size=32,\n",
        "        class_mode=None,\n",
        "        shuffle=False)\n",
        "train_features = model.predict(train_generator)\n",
        "test_generator = datagen.flow_from_directory(\n",
        "        '/content/drive/MyDrive/FINAL YEAR PROJECT/test',\n",
        "        target_size=(224, 224),\n",
        "        batch_size=32,\n",
        "        class_mode=None,\n",
        "        shuffle=False)\n",
        "test_features = model.predict(test_generator)\n",
        "\n",
        "# Flatten features\n",
        "train_features = train_features.reshape(train_features.shape[0], -1)\n",
        "test_features = test_features.reshape(test_features.shape[0], -1)\n",
        "\n",
        "# Train SVC model\n",
        "svc = SVC(kernel='linear')\n",
        "svc.fit(train_features, train_generator.classes)\n",
        "\n",
        "# Test SVC model\n",
        "y_pred = svc.predict(test_features)\n",
        "accuracy = accuracy_score(test_generator.classes, y_pred)\n",
        "print(\"Accuracy:\", accuracy)"
      ]
    },
    {
      "cell_type": "code",
      "execution_count": null,
      "metadata": {
        "id": "Eqq6XpVIjARQ"
      },
      "outputs": [],
      "source": [
        "\n"
      ]
    }
  ],
  "metadata": {
    "colab": {
      "provenance": []
    },
    "kernelspec": {
      "display_name": "Python 3",
      "name": "python3"
    },
    "language_info": {
      "name": "python"
    }
  },
  "nbformat": 4,
  "nbformat_minor": 0
}
